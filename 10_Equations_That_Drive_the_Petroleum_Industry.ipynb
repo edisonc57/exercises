{
  "nbformat": 4,
  "nbformat_minor": 0,
  "metadata": {
    "colab": {
      "provenance": [],
      "authorship_tag": "ABX9TyMa56XPShHiZb3lL1poFDGo",
      "include_colab_link": true
    },
    "kernelspec": {
      "name": "python3",
      "display_name": "Python 3"
    },
    "language_info": {
      "name": "python"
    }
  },
  "cells": [
    {
      "cell_type": "markdown",
      "metadata": {
        "id": "view-in-github",
        "colab_type": "text"
      },
      "source": [
        "<a href=\"https://colab.research.google.com/github/edisonc57/exercises/blob/main/10_Equations_That_Drive_the_Petroleum_Industry.ipynb\" target=\"_parent\"><img src=\"https://colab.research.google.com/assets/colab-badge.svg\" alt=\"Open In Colab\"/></a>"
      ]
    },
    {
      "cell_type": "markdown",
      "source": [
        "#1. Bragg’s Law"
      ],
      "metadata": {
        "id": "DauMO32CttyD"
      }
    },
    {
      "cell_type": "markdown",
      "source": [
        "$$\n",
        "n\\lambda = 2d\\sin{(\\theta)}\n",
        "$$\n"
      ],
      "metadata": {
        "id": "rXaAAqHotP4k"
      }
    },
    {
      "cell_type": "markdown",
      "source": [
        "#2.Hubbert Equation/Curve"
      ],
      "metadata": {
        "id": "KTEW3JVlt281"
      }
    },
    {
      "cell_type": "markdown",
      "source": [
        "\n",
        "\n",
        "$$\n",
        "P(t) = Q_m \\omega \\frac{1}{({e^{\\frac{-\\omega}{2}(\\tau -t)}}+{e^{\\frac{\\omega}{2}(\\tau -t)}})^2}\n",
        "$$"
      ],
      "metadata": {
        "id": "8HyN9pcIzGGc"
      }
    },
    {
      "cell_type": "markdown",
      "source": [
        "#3. Material Balance"
      ],
      "metadata": {
        "id": "XBnmkt8TuAs7"
      }
    },
    {
      "cell_type": "markdown",
      "source": [
        "$$\n",
        "N_p =  \\frac {OOIP}{\\phi} (\\frac {P_i - P_{wf}} {m} - \\frac {\\Delta P} {m}  ) + N_{po}\n",
        "$$"
      ],
      "metadata": {
        "id": "DO76bC1HH1a0"
      }
    },
    {
      "cell_type": "markdown",
      "source": [
        "#4. Darcy’s Law"
      ],
      "metadata": {
        "id": "mPfiL9xIuFkZ"
      }
    },
    {
      "cell_type": "markdown",
      "source": [
        "$$\n",
        "q = - \\frac {k} {\\mu} {\\nabla p}\n",
        "$$"
      ],
      "metadata": {
        "id": "97ETFa5XOAZb"
      }
    },
    {
      "cell_type": "markdown",
      "source": [
        "#5. Stevin’s Law in Field Units"
      ],
      "metadata": {
        "id": "OWMHf1ESuVly"
      }
    },
    {
      "cell_type": "markdown",
      "source": [
        "$$\n",
        "P = 0.052. {\\rho}. TVD\n",
        "$$"
      ],
      "metadata": {
        "id": "TI0WeZWSO2wD"
      }
    },
    {
      "cell_type": "markdown",
      "source": [
        "#6. Annular Capacity"
      ],
      "metadata": {
        "id": "waXB39VnudOS"
      }
    },
    {
      "cell_type": "markdown",
      "source": [
        "$$\n",
        "V = \\frac {(OD^2 - ID^2)}{1029.4}\n",
        "$$\n"
      ],
      "metadata": {
        "id": "Xpx3kRjVP2pT"
      }
    },
    {
      "cell_type": "markdown",
      "source": [
        "#7. Inflow Performance Relationship (IPR): Vogel’s Equation"
      ],
      "metadata": {
        "id": "1aKjA0xIupia"
      }
    },
    {
      "cell_type": "markdown",
      "source": [
        "$$\n",
        "\\frac {q_o} {q_{omax}} = 1 - 0.2 \\frac {P_{wf}} {P_{res}} - 0.8 (\\frac {P_{wf}} {P_{res}})^2\n",
        "$$"
      ],
      "metadata": {
        "id": "Slg1F7p1QpYQ"
      }
    },
    {
      "cell_type": "markdown",
      "source": [
        "#8. Bernoulli’s and Poiseulle’s Equations"
      ],
      "metadata": {
        "id": "GvBNTQGmu3nK"
      }
    },
    {
      "cell_type": "markdown",
      "source": [
        "*Bernoulli's equation:*\n",
        "\n",
        "$$\n",
        "\\frac {v^2} {2} + gz + \\frac {p} {\\rho} = constant\n",
        "$$"
      ],
      "metadata": {
        "id": "gynWMzLLnWVE"
      }
    },
    {
      "cell_type": "markdown",
      "source": [
        "*Hagen-Poiseulle's equation*\n",
        "\n",
        "$$\n",
        "{\\Delta p} = (\\frac {8 \\mu L} {\\pi R^4}) q\n",
        "$$"
      ],
      "metadata": {
        "id": "WombNntkoZfq"
      }
    },
    {
      "cell_type": "markdown",
      "source": [
        "#9. Real Gas Equation of State"
      ],
      "metadata": {
        "id": "vUeLprKEvAxy"
      }
    },
    {
      "cell_type": "markdown",
      "source": [
        "$$\n",
        "P= \\frac {RT} {Ṽ - b} - \\frac {a \\alpha (T) } {Ṽ (Ṽ + b)}\n",
        "$$\n",
        "\n",
        "\n",
        "$$\n",
        "\\alpha = 0.42748 \\frac {R^2 T^2} {P_c}\n",
        "$$\n",
        "\n",
        "$$\n",
        "b = 0.08664 \\frac {R T_c} {P_c}\n",
        "$$"
      ],
      "metadata": {
        "id": "H_RYAS_nvIDd"
      }
    },
    {
      "cell_type": "markdown",
      "source": [
        "#10. Oil and Gas Property Evaluation"
      ],
      "metadata": {
        "id": "VAZY-7v0vKL7"
      }
    },
    {
      "cell_type": "markdown",
      "source": [
        "$$\n",
        "P = (N. R. W) - T - C - F - I\n",
        "$$"
      ],
      "metadata": {
        "id": "PMyzxE2Q1wSh"
      }
    }
  ]
}