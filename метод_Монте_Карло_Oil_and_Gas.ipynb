{
  "nbformat": 4,
  "nbformat_minor": 0,
  "metadata": {
    "colab": {
      "provenance": [],
      "authorship_tag": "ABX9TyOlwz87bHUHJ4Nvopv1Bkjm",
      "include_colab_link": true
    },
    "kernelspec": {
      "name": "python3",
      "display_name": "Python 3"
    },
    "language_info": {
      "name": "python"
    }
  },
  "cells": [
    {
      "cell_type": "markdown",
      "metadata": {
        "id": "view-in-github",
        "colab_type": "text"
      },
      "source": [
        "<a href=\"https://colab.research.google.com/github/edisonc57/exercises/blob/main/%D0%BC%D0%B5%D1%82%D0%BE%D0%B4_%D0%9C%D0%BE%D0%BD%D1%82%D0%B5_%D0%9A%D0%B0%D1%80%D0%BB%D0%BE_Oil_and_Gas.ipynb\" target=\"_parent\"><img src=\"https://colab.research.google.com/assets/colab-badge.svg\" alt=\"Open In Colab\"/></a>"
      ]
    },
    {
      "cell_type": "code",
      "source": [
        "import matplotlib.pyplot as plt\n",
        "import numpy as np\n",
        "import pandas as pd\n",
        "import math\n",
        "import random\n",
        "import ipywidgets as widgets"
      ],
      "metadata": {
        "id": "KNH4zqAj8Td6"
      },
      "execution_count": 5,
      "outputs": []
    },
    {
      "cell_type": "markdown",
      "source": [
        "*Нормальное распределение* - Distribución normal\n",
        "\n",
        "$$f(x)=\\frac{1}{\\sigma*\\sqrt{2\\pi}}e^{-\\frac{(x-\\mu)^2}{2\\sigma^2}}$$\n",
        "\n",
        "*среднеквадратическое отклонение* - Desviación estandar\n",
        "\n",
        "$$\\sigma=\\sqrt{\\frac{\\Sigma(x-\\mu)^2}{n}}$$"
      ],
      "metadata": {
        "id": "Sp0CMD3qRhli"
      }
    },
    {
      "cell_type": "code",
      "source": [
        "def n_ras(mu, sigma):\n",
        "  x = []\n",
        "  dfx =[]\n",
        "  acumx = []\n",
        "\n",
        "  sumfx = 0\n",
        "  cont = 0\n",
        "\n",
        "  for i in range(10000, 20000):\n",
        "    val1 = i/100\n",
        "    x.append(val1)\n",
        "\n",
        "    val2 = math.exp(-0.5*((val1-mu)/sigma)**2)/(sigma*(2*math.pi)**0.5)\n",
        "    dfx.append(val2)\n",
        "\n",
        "    sumfx = sumfx + dfx[cont]\n",
        "    acumx.append(sumfx)\n",
        "    cont= cont + 1\n",
        "\n",
        "  for i in range(len(acumx)):\n",
        "    acumx[i] = acumx[i]/sumfx\n",
        "\n",
        "  # Gráfica de distribución normal\n",
        "  fig, (ax1, ax2) = plt.subplots(1, 2, figsize = (13,4))\n",
        "  ax1.plot(x, dfx,'b')\n",
        "  ax1.set_xlim(10,20)\n",
        "  ax1.set_ylim(0,0.5)\n",
        "  ax1.set_title('Distribición normal')\n",
        "  ax1.set_xlabel('x')\n",
        "  ax1.set_ylabel('fx')\n",
        "\n",
        "  # Gráfica de distribución normal acumulada\n",
        "  ax2.plot(x, acumx, 'b')\n",
        "  ax2.set_xlim(10,20)\n",
        "  ax2.set_ylim(0,1)\n",
        "  ax2.set_xlim(10,20)\n",
        "  ax2.set_ylim(0,1)\n",
        "  ax2.set_title('Distribición acumulada')\n",
        "  ax2.set_xlabel('x')\n",
        "  ax2.set_ylabel('Acfx')\n",
        "\n",
        "  plt.show()\n",
        "\n",
        "  return(x, dfx, acumx)\n",
        "\n",
        "\n",
        "\n",
        "\n",
        "\n"
      ],
      "metadata": {
        "collapsed": true,
        "id": "DV3wDk00UrId"
      },
      "execution_count": 52,
      "outputs": []
    },
    {
      "cell_type": "code",
      "source": [
        "n_ras(10, 15)\n"
      ],
      "metadata": {
        "id": "7XHzDuS4B0sa"
      },
      "execution_count": null,
      "outputs": []
    }
  ]
}