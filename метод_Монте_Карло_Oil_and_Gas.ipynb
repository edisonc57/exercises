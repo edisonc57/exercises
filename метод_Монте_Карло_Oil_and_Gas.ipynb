{
  "nbformat": 4,
  "nbformat_minor": 0,
  "metadata": {
    "colab": {
      "provenance": [],
      "authorship_tag": "ABX9TyP+pjIA/4F/G0H8uSy8Um7F",
      "include_colab_link": true
    },
    "kernelspec": {
      "name": "python3",
      "display_name": "Python 3"
    },
    "language_info": {
      "name": "python"
    },
    "widgets": {
      "application/vnd.jupyter.widget-state+json": {
        "6c024dbd5ed74918ae4c9601fc0a1c19": {
          "model_module": "@jupyter-widgets/controls",
          "model_name": "VBoxModel",
          "model_module_version": "1.5.0",
          "state": {
            "_dom_classes": [
              "widget-interact"
            ],
            "_model_module": "@jupyter-widgets/controls",
            "_model_module_version": "1.5.0",
            "_model_name": "VBoxModel",
            "_view_count": null,
            "_view_module": "@jupyter-widgets/controls",
            "_view_module_version": "1.5.0",
            "_view_name": "VBoxView",
            "box_style": "",
            "children": [
              "IPY_MODEL_ee2199933f8b4d8a8ac423617cba4859",
              "IPY_MODEL_f261089dc6ae4a0582ec51354384dde9",
              "IPY_MODEL_56bc1617db70498fb4acbffcddf170bf"
            ],
            "layout": "IPY_MODEL_ce9afd5d4c74421590cbaaa0850e81f9"
          }
        },
        "ee2199933f8b4d8a8ac423617cba4859": {
          "model_module": "@jupyter-widgets/controls",
          "model_name": "IntSliderModel",
          "model_module_version": "1.5.0",
          "state": {
            "_dom_classes": [],
            "_model_module": "@jupyter-widgets/controls",
            "_model_module_version": "1.5.0",
            "_model_name": "IntSliderModel",
            "_view_count": null,
            "_view_module": "@jupyter-widgets/controls",
            "_view_module_version": "1.5.0",
            "_view_name": "IntSliderView",
            "continuous_update": true,
            "description": "mu",
            "description_tooltip": null,
            "disabled": false,
            "layout": "IPY_MODEL_7a274cb3cb3241beafbd578ad19b8034",
            "max": 20,
            "min": 10,
            "orientation": "horizontal",
            "readout": true,
            "readout_format": "d",
            "step": 1,
            "style": "IPY_MODEL_ec115e0c656a49febd7adc39327cdbe3",
            "value": 15
          }
        },
        "f261089dc6ae4a0582ec51354384dde9": {
          "model_module": "@jupyter-widgets/controls",
          "model_name": "FloatSliderModel",
          "model_module_version": "1.5.0",
          "state": {
            "_dom_classes": [],
            "_model_module": "@jupyter-widgets/controls",
            "_model_module_version": "1.5.0",
            "_model_name": "FloatSliderModel",
            "_view_count": null,
            "_view_module": "@jupyter-widgets/controls",
            "_view_module_version": "1.5.0",
            "_view_name": "FloatSliderView",
            "continuous_update": true,
            "description": "sigma",
            "description_tooltip": null,
            "disabled": false,
            "layout": "IPY_MODEL_34245eb1322c4bee95087a9baded1a72",
            "max": 5,
            "min": 0.8,
            "orientation": "horizontal",
            "readout": true,
            "readout_format": ".2f",
            "step": 0.1,
            "style": "IPY_MODEL_63b6754de6de4fd6b21cb3b3d96ca3f3",
            "value": 2.9000000000000004
          }
        },
        "56bc1617db70498fb4acbffcddf170bf": {
          "model_module": "@jupyter-widgets/output",
          "model_name": "OutputModel",
          "model_module_version": "1.0.0",
          "state": {
            "_dom_classes": [],
            "_model_module": "@jupyter-widgets/output",
            "_model_module_version": "1.0.0",
            "_model_name": "OutputModel",
            "_view_count": null,
            "_view_module": "@jupyter-widgets/output",
            "_view_module_version": "1.0.0",
            "_view_name": "OutputView",
            "layout": "IPY_MODEL_c26e5451685a456fba507cbbc790ce10",
            "msg_id": "",
            "outputs": [
              {
                "output_type": "display_data",
                "data": {
                  "text/plain": "<Figure size 1300x400 with 2 Axes>",
                  "image/png": "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\n"
                },
                "metadata": {}
              }
            ]
          }
        },
        "ce9afd5d4c74421590cbaaa0850e81f9": {
          "model_module": "@jupyter-widgets/base",
          "model_name": "LayoutModel",
          "model_module_version": "1.2.0",
          "state": {
            "_model_module": "@jupyter-widgets/base",
            "_model_module_version": "1.2.0",
            "_model_name": "LayoutModel",
            "_view_count": null,
            "_view_module": "@jupyter-widgets/base",
            "_view_module_version": "1.2.0",
            "_view_name": "LayoutView",
            "align_content": null,
            "align_items": null,
            "align_self": null,
            "border": null,
            "bottom": null,
            "display": null,
            "flex": null,
            "flex_flow": null,
            "grid_area": null,
            "grid_auto_columns": null,
            "grid_auto_flow": null,
            "grid_auto_rows": null,
            "grid_column": null,
            "grid_gap": null,
            "grid_row": null,
            "grid_template_areas": null,
            "grid_template_columns": null,
            "grid_template_rows": null,
            "height": null,
            "justify_content": null,
            "justify_items": null,
            "left": null,
            "margin": null,
            "max_height": null,
            "max_width": null,
            "min_height": null,
            "min_width": null,
            "object_fit": null,
            "object_position": null,
            "order": null,
            "overflow": null,
            "overflow_x": null,
            "overflow_y": null,
            "padding": null,
            "right": null,
            "top": null,
            "visibility": null,
            "width": null
          }
        },
        "7a274cb3cb3241beafbd578ad19b8034": {
          "model_module": "@jupyter-widgets/base",
          "model_name": "LayoutModel",
          "model_module_version": "1.2.0",
          "state": {
            "_model_module": "@jupyter-widgets/base",
            "_model_module_version": "1.2.0",
            "_model_name": "LayoutModel",
            "_view_count": null,
            "_view_module": "@jupyter-widgets/base",
            "_view_module_version": "1.2.0",
            "_view_name": "LayoutView",
            "align_content": null,
            "align_items": null,
            "align_self": null,
            "border": null,
            "bottom": null,
            "display": null,
            "flex": null,
            "flex_flow": null,
            "grid_area": null,
            "grid_auto_columns": null,
            "grid_auto_flow": null,
            "grid_auto_rows": null,
            "grid_column": null,
            "grid_gap": null,
            "grid_row": null,
            "grid_template_areas": null,
            "grid_template_columns": null,
            "grid_template_rows": null,
            "height": null,
            "justify_content": null,
            "justify_items": null,
            "left": null,
            "margin": null,
            "max_height": null,
            "max_width": null,
            "min_height": null,
            "min_width": null,
            "object_fit": null,
            "object_position": null,
            "order": null,
            "overflow": null,
            "overflow_x": null,
            "overflow_y": null,
            "padding": null,
            "right": null,
            "top": null,
            "visibility": null,
            "width": null
          }
        },
        "ec115e0c656a49febd7adc39327cdbe3": {
          "model_module": "@jupyter-widgets/controls",
          "model_name": "SliderStyleModel",
          "model_module_version": "1.5.0",
          "state": {
            "_model_module": "@jupyter-widgets/controls",
            "_model_module_version": "1.5.0",
            "_model_name": "SliderStyleModel",
            "_view_count": null,
            "_view_module": "@jupyter-widgets/base",
            "_view_module_version": "1.2.0",
            "_view_name": "StyleView",
            "description_width": "",
            "handle_color": null
          }
        },
        "34245eb1322c4bee95087a9baded1a72": {
          "model_module": "@jupyter-widgets/base",
          "model_name": "LayoutModel",
          "model_module_version": "1.2.0",
          "state": {
            "_model_module": "@jupyter-widgets/base",
            "_model_module_version": "1.2.0",
            "_model_name": "LayoutModel",
            "_view_count": null,
            "_view_module": "@jupyter-widgets/base",
            "_view_module_version": "1.2.0",
            "_view_name": "LayoutView",
            "align_content": null,
            "align_items": null,
            "align_self": null,
            "border": null,
            "bottom": null,
            "display": null,
            "flex": null,
            "flex_flow": null,
            "grid_area": null,
            "grid_auto_columns": null,
            "grid_auto_flow": null,
            "grid_auto_rows": null,
            "grid_column": null,
            "grid_gap": null,
            "grid_row": null,
            "grid_template_areas": null,
            "grid_template_columns": null,
            "grid_template_rows": null,
            "height": null,
            "justify_content": null,
            "justify_items": null,
            "left": null,
            "margin": null,
            "max_height": null,
            "max_width": null,
            "min_height": null,
            "min_width": null,
            "object_fit": null,
            "object_position": null,
            "order": null,
            "overflow": null,
            "overflow_x": null,
            "overflow_y": null,
            "padding": null,
            "right": null,
            "top": null,
            "visibility": null,
            "width": null
          }
        },
        "63b6754de6de4fd6b21cb3b3d96ca3f3": {
          "model_module": "@jupyter-widgets/controls",
          "model_name": "SliderStyleModel",
          "model_module_version": "1.5.0",
          "state": {
            "_model_module": "@jupyter-widgets/controls",
            "_model_module_version": "1.5.0",
            "_model_name": "SliderStyleModel",
            "_view_count": null,
            "_view_module": "@jupyter-widgets/base",
            "_view_module_version": "1.2.0",
            "_view_name": "StyleView",
            "description_width": "",
            "handle_color": null
          }
        },
        "c26e5451685a456fba507cbbc790ce10": {
          "model_module": "@jupyter-widgets/base",
          "model_name": "LayoutModel",
          "model_module_version": "1.2.0",
          "state": {
            "_model_module": "@jupyter-widgets/base",
            "_model_module_version": "1.2.0",
            "_model_name": "LayoutModel",
            "_view_count": null,
            "_view_module": "@jupyter-widgets/base",
            "_view_module_version": "1.2.0",
            "_view_name": "LayoutView",
            "align_content": null,
            "align_items": null,
            "align_self": null,
            "border": null,
            "bottom": null,
            "display": null,
            "flex": null,
            "flex_flow": null,
            "grid_area": null,
            "grid_auto_columns": null,
            "grid_auto_flow": null,
            "grid_auto_rows": null,
            "grid_column": null,
            "grid_gap": null,
            "grid_row": null,
            "grid_template_areas": null,
            "grid_template_columns": null,
            "grid_template_rows": null,
            "height": null,
            "justify_content": null,
            "justify_items": null,
            "left": null,
            "margin": null,
            "max_height": null,
            "max_width": null,
            "min_height": null,
            "min_width": null,
            "object_fit": null,
            "object_position": null,
            "order": null,
            "overflow": null,
            "overflow_x": null,
            "overflow_y": null,
            "padding": null,
            "right": null,
            "top": null,
            "visibility": null,
            "width": null
          }
        }
      }
    }
  },
  "cells": [
    {
      "cell_type": "markdown",
      "metadata": {
        "id": "view-in-github",
        "colab_type": "text"
      },
      "source": [
        "<a href=\"https://colab.research.google.com/github/edisonc57/exercises/blob/main/%D0%BC%D0%B5%D1%82%D0%BE%D0%B4_%D0%9C%D0%BE%D0%BD%D1%82%D0%B5_%D0%9A%D0%B0%D1%80%D0%BB%D0%BE_Oil_and_Gas.ipynb\" target=\"_parent\"><img src=\"https://colab.research.google.com/assets/colab-badge.svg\" alt=\"Open In Colab\"/></a>"
      ]
    },
    {
      "cell_type": "code",
      "source": [
        "import matplotlib.pyplot as plt\n",
        "import numpy as np\n",
        "import pandas as pd\n",
        "import math\n",
        "import random\n",
        "import ipywidgets as widgets"
      ],
      "metadata": {
        "id": "KNH4zqAj8Td6"
      },
      "execution_count": 35,
      "outputs": []
    },
    {
      "cell_type": "markdown",
      "source": [
        "*Нормальное распределение* - Distribución normal\n",
        "\n",
        "$$f(x)=\\frac{1}{\\sigma*\\sqrt{2\\pi}}e^{-\\frac{(x-\\mu)^2}{2\\sigma^2}}$$\n",
        "\n",
        "*среднеквадратическое отклонение* - Desviación estandar\n",
        "\n",
        "$$\\sigma=\\sqrt{\\frac{\\Sigma(x-\\mu)^2}{n}}$$"
      ],
      "metadata": {
        "id": "Sp0CMD3qRhli"
      }
    },
    {
      "cell_type": "code",
      "source": [
        "def n_ras(mu, sigma):\n",
        "  x = []\n",
        "  dfx =[]\n",
        "  acumx = []\n",
        "\n",
        "  sumfx = 0\n",
        "  cont = 0\n",
        "\n",
        "  for i in range(10000, 20000):\n",
        "    val1 = i/100\n",
        "    x.append(val1)\n",
        "\n",
        "    val2 = math.exp(-0.5*((val1-mu)/sigma)**2)/(sigma*(2*math.pi)**0.5)\n",
        "    dfx.append(val2)\n",
        "\n",
        "    sumfx = sumfx + dfx[cont]\n",
        "    acumx.append(sumfx)\n",
        "    cont= cont + 1\n",
        "\n",
        "  for i in range(len(acumx)):\n",
        "    acumx[i] = acumx[i]/sumfx\n",
        "\n",
        "# Gráfica de distribución normal\n",
        "  fig, (ax1, ax2) = plt.subplots(1, 2, figsize = (13,4))\n",
        "  ax1.plot(x, dfx,'b')\n",
        "  ax1.set_xlim(10,20)\n",
        "  ax1.set_ylim(0,0.5)\n",
        "  ax1.set_title('Distribición normal')\n",
        "  ax1.set_xlabel('x')\n",
        "  ax1.set_ylabel('fx')\n",
        "\n",
        "  # Gráfica de distribución normal acumulada\n",
        "  ax2.plot(x, acumx, 'b')\n",
        "  ax2.set_xlim(10,20)\n",
        "  ax2.set_ylim(0,1)\n",
        "  ax2.set_xlim(10,20)\n",
        "  ax2.set_ylim(0,1)\n",
        "  ax2.set_title('Distribición acumulada')\n",
        "  ax2.set_xlabel('x')\n",
        "  ax2.set_ylabel('Acfx')\n",
        "\n",
        "  plt.show()\n",
        "  return(x, dfx, acumx)"
      ],
      "metadata": {
        "collapsed": true,
        "id": "DV3wDk00UrId"
      },
      "execution_count": 36,
      "outputs": []
    },
    {
      "cell_type": "code",
      "source": [
        "Interactiva  = widgets.interactive(n_ras , sigma=(0.8, 5), mu=(10, 20))\n",
        "Interactiva"
      ],
      "metadata": {
        "colab": {
          "base_uri": "https://localhost:8080/",
          "height": 474,
          "referenced_widgets": [
            "6c024dbd5ed74918ae4c9601fc0a1c19",
            "ee2199933f8b4d8a8ac423617cba4859",
            "f261089dc6ae4a0582ec51354384dde9",
            "56bc1617db70498fb4acbffcddf170bf",
            "ce9afd5d4c74421590cbaaa0850e81f9",
            "7a274cb3cb3241beafbd578ad19b8034",
            "ec115e0c656a49febd7adc39327cdbe3",
            "34245eb1322c4bee95087a9baded1a72",
            "63b6754de6de4fd6b21cb3b3d96ca3f3",
            "c26e5451685a456fba507cbbc790ce10"
          ]
        },
        "id": "7XHzDuS4B0sa",
        "outputId": "7fe5f7be-219f-4bf2-80b2-a559c9226202"
      },
      "execution_count": 37,
      "outputs": [
        {
          "output_type": "display_data",
          "data": {
            "text/plain": [
              "interactive(children=(IntSlider(value=15, description='mu', max=20, min=10), FloatSlider(value=2.9000000000000…"
            ],
            "application/vnd.jupyter.widget-view+json": {
              "version_major": 2,
              "version_minor": 0,
              "model_id": "6c024dbd5ed74918ae4c9601fc0a1c19"
            }
          },
          "metadata": {}
        }
      ]
    },
    {
      "cell_type": "markdown",
      "source": [
        "#Example"
      ],
      "metadata": {
        "id": "dFqal4gRwUV6"
      }
    },
    {
      "cell_type": "code",
      "source": [
        "import matplotlib.pyplot as plt\n",
        "import numpy as np\n",
        "import pandas as pd\n",
        "import math\n",
        "import random\n",
        "import ipywidgets as widgets"
      ],
      "metadata": {
        "id": "G_P7jptQwqIB"
      },
      "execution_count": 38,
      "outputs": []
    },
    {
      "cell_type": "markdown",
      "source": [
        "## Поритость"
      ],
      "metadata": {
        "id": "eKcKQFM_FtQg"
      }
    },
    {
      "cell_type": "code",
      "source": [],
      "metadata": {
        "id": "j4kdYx-VFR6Y"
      },
      "execution_count": null,
      "outputs": []
    },
    {
      "cell_type": "code",
      "source": [
        "mu = 0.2\n",
        "sigma = 0.03\n",
        "poro = np.random.normal(mu, sigma, 10000)\n",
        "print(poro)"
      ],
      "metadata": {
        "colab": {
          "base_uri": "https://localhost:8080/"
        },
        "id": "OstC4-TQwSzS",
        "outputId": "a718b73c-41b1-44c8-e345-f241549e18a9"
      },
      "execution_count": 48,
      "outputs": [
        {
          "output_type": "stream",
          "name": "stdout",
          "text": [
            "[0.1800336  0.21052574 0.1639855  ... 0.27425642 0.19028227 0.2101476 ]\n"
          ]
        }
      ]
    },
    {
      "cell_type": "code",
      "source": [
        "print(len(poro))\n",
        "print(max(poro))\n",
        "print(min(poro))"
      ],
      "metadata": {
        "colab": {
          "base_uri": "https://localhost:8080/"
        },
        "id": "DUQRwqrIytxI",
        "outputId": "7d64da7b-419a-4868-d769-ffad9d234033"
      },
      "execution_count": 45,
      "outputs": [
        {
          "output_type": "stream",
          "name": "stdout",
          "text": [
            "10000\n",
            "0.3168096075650048\n",
            "0.0834204892887908\n"
          ]
        }
      ]
    },
    {
      "cell_type": "code",
      "source": [
        "fig, ax = plt.subplots(1, 1,dpi=100,figsize=(6,4))\n",
        "plt.hist(poro, bins=20\n",
        "         , density = False, ec=\"black\", color='orange')\n",
        "plt.grid(True)\n",
        "plt.ylabel('Frecuencia')\n",
        "plt.xlabel('Porosidad, -')\n",
        "plt.title('Porosidad')\n"
      ],
      "metadata": {
        "colab": {
          "base_uri": "https://localhost:8080/",
          "height": 427
        },
        "id": "P3SXGq4wws75",
        "outputId": "d68d4f18-1dc9-4e66-cb71-f08a3581767e"
      },
      "execution_count": 46,
      "outputs": [
        {
          "output_type": "execute_result",
          "data": {
            "text/plain": [
              "Text(0.5, 1.0, 'Porosidad')"
            ]
          },
          "metadata": {},
          "execution_count": 46
        },
        {
          "output_type": "display_data",
          "data": {
            "text/plain": [
              "<Figure size 600x400 with 1 Axes>"
            ],
            "image/png": "[encoded data removed]"
          },
          "metadata": {}
        }
      ]
    },
    {
      "cell_type": "code",
      "source": [
        "count_poro, bins = np.histogram(poro, bins=20)\n",
        "print(count_poro,\"\\n\")\n",
        "print(bins)"
      ],
      "metadata": {
        "colab": {
          "base_uri": "https://localhost:8080/"
        },
        "id": "Tbh21aauDeUv",
        "outputId": "3ede9ddc-dce2-462e-fd62-4eeeb7834ba9"
      },
      "execution_count": 47,
      "outputs": [
        {
          "output_type": "stream",
          "name": "stdout",
          "text": [
            "[   3    7   21   65  157  321  580  941 1315 1529 1551 1335  975  640\n",
            "  315  152   70   17    3    3] \n",
            "\n",
            "[0.08342049 0.09508995 0.1067594  0.11842886 0.13009831 0.14176777\n",
            " 0.15343722 0.16510668 0.17677614 0.18844559 0.20011505 0.2117845\n",
            " 0.22345396 0.23512342 0.24679287 0.25846233 0.27013178 0.28180124\n",
            " 0.2934707  0.30514015 0.31680961]\n"
          ]
        }
      ]
    },
    {
      "cell_type": "code",
      "source": [],
      "metadata": {
        "id": "ieRtVz3PDr_t"
      },
      "execution_count": 42,
      "outputs": []
    }
  ]
}