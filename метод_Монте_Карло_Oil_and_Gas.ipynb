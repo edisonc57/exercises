{
  "nbformat": 4,
  "nbformat_minor": 0,
  "metadata": {
    "colab": {
      "provenance": [],
      "authorship_tag": "ABX9TyMEEJsAdFslqcbV07XnGWj2",
      "include_colab_link": true
    },
    "kernelspec": {
      "name": "python3",
      "display_name": "Python 3"
    },
    "language_info": {
      "name": "python"
    },
    "widgets": {
      "application/vnd.jupyter.widget-state+json": {
        "215b642ea3d84bcb8bd476cb89d553d4": {
          "model_module": "@jupyter-widgets/controls",
          "model_name": "VBoxModel",
          "model_module_version": "1.5.0",
          "state": {
            "_dom_classes": [
              "widget-interact"
            ],
            "_model_module": "@jupyter-widgets/controls",
            "_model_module_version": "1.5.0",
            "_model_name": "VBoxModel",
            "_view_count": null,
            "_view_module": "@jupyter-widgets/controls",
            "_view_module_version": "1.5.0",
            "_view_name": "VBoxView",
            "box_style": "",
            "children": [
              "IPY_MODEL_8a3e1cc16c294614a862a73bb8d883a3",
              "IPY_MODEL_cbe9117ad9a9406fb3beb55172e9acfb",
              "IPY_MODEL_20e087985f2441d7a4612e8bb1bfcd1b"
            ],
            "layout": "IPY_MODEL_26eb6b26b5f541d8ab113b3810e48164"
          }
        },
        "8a3e1cc16c294614a862a73bb8d883a3": {
          "model_module": "@jupyter-widgets/controls",
          "model_name": "IntSliderModel",
          "model_module_version": "1.5.0",
          "state": {
            "_dom_classes": [],
            "_model_module": "@jupyter-widgets/controls",
            "_model_module_version": "1.5.0",
            "_model_name": "IntSliderModel",
            "_view_count": null,
            "_view_module": "@jupyter-widgets/controls",
            "_view_module_version": "1.5.0",
            "_view_name": "IntSliderView",
            "continuous_update": true,
            "description": "mu",
            "description_tooltip": null,
            "disabled": false,
            "layout": "IPY_MODEL_bba60d203bac4d829c159e2cd95c2740",
            "max": 20,
            "min": 10,
            "orientation": "horizontal",
            "readout": true,
            "readout_format": "d",
            "step": 1,
            "style": "IPY_MODEL_d9a7816f11c74c178b4ce9692539bc60",
            "value": 14
          }
        },
        "cbe9117ad9a9406fb3beb55172e9acfb": {
          "model_module": "@jupyter-widgets/controls",
          "model_name": "FloatSliderModel",
          "model_module_version": "1.5.0",
          "state": {
            "_dom_classes": [],
            "_model_module": "@jupyter-widgets/controls",
            "_model_module_version": "1.5.0",
            "_model_name": "FloatSliderModel",
            "_view_count": null,
            "_view_module": "@jupyter-widgets/controls",
            "_view_module_version": "1.5.0",
            "_view_name": "FloatSliderView",
            "continuous_update": true,
            "description": "sigma",
            "description_tooltip": null,
            "disabled": false,
            "layout": "IPY_MODEL_62fd2d49157a4d21a946eb75d091dbb0",
            "max": 5,
            "min": 0.8,
            "orientation": "horizontal",
            "readout": true,
            "readout_format": ".2f",
            "step": 0.1,
            "style": "IPY_MODEL_d18cf9e0ac6e45b8b52347ee044db5f7",
            "value": 2.4
          }
        },
        "20e087985f2441d7a4612e8bb1bfcd1b": {
          "model_module": "@jupyter-widgets/output",
          "model_name": "OutputModel",
          "model_module_version": "1.0.0",
          "state": {
            "_dom_classes": [],
            "_model_module": "@jupyter-widgets/output",
            "_model_module_version": "1.0.0",
            "_model_name": "OutputModel",
            "_view_count": null,
            "_view_module": "@jupyter-widgets/output",
            "_view_module_version": "1.0.0",
            "_view_name": "OutputView",
            "layout": "IPY_MODEL_5d51caa9fc2a4051897dc31ba9ed1d03",
            "msg_id": "",
            "outputs": []
          }
        },
        "26eb6b26b5f541d8ab113b3810e48164": {
          "model_module": "@jupyter-widgets/base",
          "model_name": "LayoutModel",
          "model_module_version": "1.2.0",
          "state": {
            "_model_module": "@jupyter-widgets/base",
            "_model_module_version": "1.2.0",
            "_model_name": "LayoutModel",
            "_view_count": null,
            "_view_module": "@jupyter-widgets/base",
            "_view_module_version": "1.2.0",
            "_view_name": "LayoutView",
            "align_content": null,
            "align_items": null,
            "align_self": null,
            "border": null,
            "bottom": null,
            "display": null,
            "flex": null,
            "flex_flow": null,
            "grid_area": null,
            "grid_auto_columns": null,
            "grid_auto_flow": null,
            "grid_auto_rows": null,
            "grid_column": null,
            "grid_gap": null,
            "grid_row": null,
            "grid_template_areas": null,
            "grid_template_columns": null,
            "grid_template_rows": null,
            "height": null,
            "justify_content": null,
            "justify_items": null,
            "left": null,
            "margin": null,
            "max_height": null,
            "max_width": null,
            "min_height": null,
            "min_width": null,
            "object_fit": null,
            "object_position": null,
            "order": null,
            "overflow": null,
            "overflow_x": null,
            "overflow_y": null,
            "padding": null,
            "right": null,
            "top": null,
            "visibility": null,
            "width": null
          }
        },
        "bba60d203bac4d829c159e2cd95c2740": {
          "model_module": "@jupyter-widgets/base",
          "model_name": "LayoutModel",
          "model_module_version": "1.2.0",
          "state": {
            "_model_module": "@jupyter-widgets/base",
            "_model_module_version": "1.2.0",
            "_model_name": "LayoutModel",
            "_view_count": null,
            "_view_module": "@jupyter-widgets/base",
            "_view_module_version": "1.2.0",
            "_view_name": "LayoutView",
            "align_content": null,
            "align_items": null,
            "align_self": null,
            "border": null,
            "bottom": null,
            "display": null,
            "flex": null,
            "flex_flow": null,
            "grid_area": null,
            "grid_auto_columns": null,
            "grid_auto_flow": null,
            "grid_auto_rows": null,
            "grid_column": null,
            "grid_gap": null,
            "grid_row": null,
            "grid_template_areas": null,
            "grid_template_columns": null,
            "grid_template_rows": null,
            "height": null,
            "justify_content": null,
            "justify_items": null,
            "left": null,
            "margin": null,
            "max_height": null,
            "max_width": null,
            "min_height": null,
            "min_width": null,
            "object_fit": null,
            "object_position": null,
            "order": null,
            "overflow": null,
            "overflow_x": null,
            "overflow_y": null,
            "padding": null,
            "right": null,
            "top": null,
            "visibility": null,
            "width": null
          }
        },
        "d9a7816f11c74c178b4ce9692539bc60": {
          "model_module": "@jupyter-widgets/controls",
          "model_name": "SliderStyleModel",
          "model_module_version": "1.5.0",
          "state": {
            "_model_module": "@jupyter-widgets/controls",
            "_model_module_version": "1.5.0",
            "_model_name": "SliderStyleModel",
            "_view_count": null,
            "_view_module": "@jupyter-widgets/base",
            "_view_module_version": "1.2.0",
            "_view_name": "StyleView",
            "description_width": "",
            "handle_color": null
          }
        },
        "62fd2d49157a4d21a946eb75d091dbb0": {
          "model_module": "@jupyter-widgets/base",
          "model_name": "LayoutModel",
          "model_module_version": "1.2.0",
          "state": {
            "_model_module": "@jupyter-widgets/base",
            "_model_module_version": "1.2.0",
            "_model_name": "LayoutModel",
            "_view_count": null,
            "_view_module": "@jupyter-widgets/base",
            "_view_module_version": "1.2.0",
            "_view_name": "LayoutView",
            "align_content": null,
            "align_items": null,
            "align_self": null,
            "border": null,
            "bottom": null,
            "display": null,
            "flex": null,
            "flex_flow": null,
            "grid_area": null,
            "grid_auto_columns": null,
            "grid_auto_flow": null,
            "grid_auto_rows": null,
            "grid_column": null,
            "grid_gap": null,
            "grid_row": null,
            "grid_template_areas": null,
            "grid_template_columns": null,
            "grid_template_rows": null,
            "height": null,
            "justify_content": null,
            "justify_items": null,
            "left": null,
            "margin": null,
            "max_height": null,
            "max_width": null,
            "min_height": null,
            "min_width": null,
            "object_fit": null,
            "object_position": null,
            "order": null,
            "overflow": null,
            "overflow_x": null,
            "overflow_y": null,
            "padding": null,
            "right": null,
            "top": null,
            "visibility": null,
            "width": null
          }
        },
        "d18cf9e0ac6e45b8b52347ee044db5f7": {
          "model_module": "@jupyter-widgets/controls",
          "model_name": "SliderStyleModel",
          "model_module_version": "1.5.0",
          "state": {
            "_model_module": "@jupyter-widgets/controls",
            "_model_module_version": "1.5.0",
            "_model_name": "SliderStyleModel",
            "_view_count": null,
            "_view_module": "@jupyter-widgets/base",
            "_view_module_version": "1.2.0",
            "_view_name": "StyleView",
            "description_width": "",
            "handle_color": null
          }
        },
        "5d51caa9fc2a4051897dc31ba9ed1d03": {
          "model_module": "@jupyter-widgets/base",
          "model_name": "LayoutModel",
          "model_module_version": "1.2.0",
          "state": {
            "_model_module": "@jupyter-widgets/base",
            "_model_module_version": "1.2.0",
            "_model_name": "LayoutModel",
            "_view_count": null,
            "_view_module": "@jupyter-widgets/base",
            "_view_module_version": "1.2.0",
            "_view_name": "LayoutView",
            "align_content": null,
            "align_items": null,
            "align_self": null,
            "border": null,
            "bottom": null,
            "display": null,
            "flex": null,
            "flex_flow": null,
            "grid_area": null,
            "grid_auto_columns": null,
            "grid_auto_flow": null,
            "grid_auto_rows": null,
            "grid_column": null,
            "grid_gap": null,
            "grid_row": null,
            "grid_template_areas": null,
            "grid_template_columns": null,
            "grid_template_rows": null,
            "height": null,
            "justify_content": null,
            "justify_items": null,
            "left": null,
            "margin": null,
            "max_height": null,
            "max_width": null,
            "min_height": null,
            "min_width": null,
            "object_fit": null,
            "object_position": null,
            "order": null,
            "overflow": null,
            "overflow_x": null,
            "overflow_y": null,
            "padding": null,
            "right": null,
            "top": null,
            "visibility": null,
            "width": null
          }
        }
      }
    }
  },
  "cells": [
    {
      "cell_type": "markdown",
      "metadata": {
        "id": "view-in-github",
        "colab_type": "text"
      },
      "source": [
        "<a href=\"https://colab.research.google.com/github/edisonc57/exercises/blob/main/%D0%BC%D0%B5%D1%82%D0%BE%D0%B4_%D0%9C%D0%BE%D0%BD%D1%82%D0%B5_%D0%9A%D0%B0%D1%80%D0%BB%D0%BE_Oil_and_Gas.ipynb\" target=\"_parent\"><img src=\"https://colab.research.google.com/assets/colab-badge.svg\" alt=\"Open In Colab\"/></a>"
      ]
    },
    {
      "cell_type": "code",
      "source": [
        "import matplotlib.pyplot as plt\n",
        "import numpy as np\n",
        "import pandas as pd\n",
        "import math\n",
        "import random\n",
        "import ipywidgets as widgets"
      ],
      "metadata": {
        "id": "KNH4zqAj8Td6"
      },
      "execution_count": 5,
      "outputs": []
    },
    {
      "cell_type": "markdown",
      "source": [
        "*Нормальное распределение* - Distribución normal\n",
        "\n",
        "$$f(x)=\\frac{1}{\\sigma*\\sqrt{2\\pi}}e^{-\\frac{(x-\\mu)^2}{2\\sigma^2}}$$\n",
        "\n",
        "*среднеквадратическое отклонение* - Desviación estandar\n",
        "\n",
        "$$\\sigma=\\sqrt{\\frac{\\Sigma(x-\\mu)^2}{n}}$$"
      ],
      "metadata": {
        "id": "Sp0CMD3qRhli"
      }
    },
    {
      "cell_type": "code",
      "source": [
        "def n_ras(mu, sigma):\n",
        "  x = []\n",
        "  dfx =[]\n",
        "  acumx = []\n",
        "\n",
        "  sumfx = 0\n",
        "  cont = 0\n",
        "\n",
        "  for i in range(10000, 20000):\n",
        "    val1 = i/100\n",
        "    x.append(val1)\n",
        "\n",
        "    val2 = math.exp(-0.5*((val1-mu)/sigma)**2)/(sigma*(2*math.pi)**0.5)\n",
        "    dfx.append(val2)\n",
        "\n",
        "    sumfx = sumfx + dfx[cont]\n",
        "    acumx.append(sumfx)\n",
        "    cont= cont + 1\n",
        "\n",
        "  for i in range(len(acumx)):\n",
        "    acumx[i] = acumx[i]/sumfx\n",
        "\n",
        "  return(x, dfx, acumx)\n",
        "\n",
        "# Gráfica de distribución normal\n",
        "  fig, (ax1, ax2) = plt.subplots(1, 2, figsize = (13,4))\n",
        "  ax1.plot(x, dfx,'b')\n",
        "  ax1.set_xlim(10,20)\n",
        "  ax1.set_ylim(0,0.5)\n",
        "  ax1.set_title('Distribición normal')\n",
        "  ax1.set_xlabel('x')\n",
        "  ax1.set_ylabel('fx')\n",
        "\n",
        "  # Gráfica de distribución normal acumulada\n",
        "  ax2.plot(x, acumx, 'b')\n",
        "  ax2.set_xlim(10,20)\n",
        "  ax2.set_ylim(0,1)\n",
        "  ax2.set_xlim(10,20)\n",
        "  ax2.set_ylim(0,1)\n",
        "  ax2.set_title('Distribición acumulada')\n",
        "  ax2.set_xlabel('x')\n",
        "  ax2.set_ylabel('Acfx')\n",
        "\n",
        "  plt.show()"
      ],
      "metadata": {
        "collapsed": true,
        "id": "DV3wDk00UrId"
      },
      "execution_count": 67,
      "outputs": []
    },
    {
      "cell_type": "code",
      "source": [
        "Interactiva  = widgets.interactive(n_ras , sigma=(0.8, 5), mu=(10, 20))\n",
        "Interactiva"
      ],
      "metadata": {
        "colab": {
          "base_uri": "https://localhost:8080/",
          "height": 81,
          "referenced_widgets": [
            "215b642ea3d84bcb8bd476cb89d553d4",
            "8a3e1cc16c294614a862a73bb8d883a3",
            "cbe9117ad9a9406fb3beb55172e9acfb",
            "20e087985f2441d7a4612e8bb1bfcd1b",
            "26eb6b26b5f541d8ab113b3810e48164",
            "bba60d203bac4d829c159e2cd95c2740",
            "d9a7816f11c74c178b4ce9692539bc60",
            "62fd2d49157a4d21a946eb75d091dbb0",
            "d18cf9e0ac6e45b8b52347ee044db5f7",
            "5d51caa9fc2a4051897dc31ba9ed1d03"
          ]
        },
        "id": "7XHzDuS4B0sa",
        "outputId": "51c5b0b2-9074-4f5e-cad4-6a768c7a5d2b"
      },
      "execution_count": 66,
      "outputs": [
        {
          "output_type": "display_data",
          "data": {
            "text/plain": [
              "interactive(children=(IntSlider(value=15, description='mu', max=20, min=10), FloatSlider(value=2.9000000000000…"
            ],
            "application/vnd.jupyter.widget-view+json": {
              "version_major": 2,
              "version_minor": 0,
              "model_id": "215b642ea3d84bcb8bd476cb89d553d4"
            }
          },
          "metadata": {}
        }
      ]
    }
  ]
}