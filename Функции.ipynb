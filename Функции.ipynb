{
  "nbformat": 4,
  "nbformat_minor": 0,
  "metadata": {
    "colab": {
      "provenance": [],
      "authorship_tag": "ABX9TyP6OnEfZIuZc2O7pEPHYPxw",
      "include_colab_link": true
    },
    "kernelspec": {
      "name": "python3",
      "display_name": "Python 3"
    },
    "language_info": {
      "name": "python"
    }
  },
  "cells": [
    {
      "cell_type": "markdown",
      "metadata": {
        "id": "view-in-github",
        "colab_type": "text"
      },
      "source": [
        "<a href=\"https://colab.research.google.com/github/edisonc57/exercises/blob/main/%D0%A4%D1%83%D0%BD%D0%BA%D1%86%D0%B8%D0%B8.ipynb\" target=\"_parent\"><img src=\"https://colab.research.google.com/assets/colab-badge.svg\" alt=\"Open In Colab\"/></a>"
      ]
    },
    {
      "cell_type": "code",
      "execution_count": 14,
      "metadata": {
        "colab": {
          "base_uri": "https://localhost:8080/"
        },
        "id": "zvgCz0niEdLw",
        "outputId": "c889c0df-3a7c-4c1a-f26a-629e5a14f73b"
      },
      "outputs": [
        {
          "output_type": "stream",
          "name": "stdout",
          "text": [
            "Ingresa tu nombre:  edison contreras\n",
            "Ingresa año de nacimiento: 1952\n",
            "EDISON CONTRERAS\n",
            "71\n"
          ]
        }
      ],
      "source": [
        "def edad (nombre, nacimiento):\n",
        "    nombre=nombre.upper()\n",
        "    edad_actual= 2023-nacimiento\n",
        "    print(nombre)\n",
        "    print(edad_actual)\n",
        "    return\n",
        "\n",
        "edad(input(\"Ingresa tu nombre:  \",), int(input(\"Ingresa año de nacimiento: \", )))\n"
      ]
    },
    {
      "cell_type": "code",
      "source": [
        "def letra(valor):\n",
        "    return (valor.isalpha())\n",
        "\n",
        "nombre=input(\"¿Cuál es el nombre?  \")\n",
        "while letra(nombre)== False:\n",
        "    print(\"Introduce solamente letras \")\n",
        "    nombre= input(\"¿Cuál es el nombre?  \")\n",
        "print(\"Excelente\", nombre)"
      ],
      "metadata": {
        "colab": {
          "base_uri": "https://localhost:8080/"
        },
        "id": "DCyozWHTK3tV",
        "outputId": "6bfef3e3-9672-4e30-a9fe-e7cafe6b2c54"
      },
      "execution_count": 19,
      "outputs": [
        {
          "output_type": "stream",
          "name": "stdout",
          "text": [
            "¿Cuál es el nombre?  edison123\n",
            "Introduce solamente letras \n",
            "¿Cuál es el nombre?  edison9\n",
            "Introduce solamente letras \n",
            "¿Cuál es el nombre?  edison\n",
            "Excelente edison\n"
          ]
        }
      ]
    },
    {
      "cell_type": "code",
      "source": [
        "import random\n",
        "def magia(i,f):\n",
        "    return (random.randint(i,f))\n",
        "inicio= int(input(\"Inicio: \"))\n",
        "final= int(input(\"Final: \"))\n",
        "print(magia(inicio,final))"
      ],
      "metadata": {
        "colab": {
          "base_uri": "https://localhost:8080/"
        },
        "id": "InYc001peeHk",
        "outputId": "2affa49e-4934-4d10-bdba-52f71048e83b"
      },
      "execution_count": 20,
      "outputs": [
        {
          "output_type": "stream",
          "name": "stdout",
          "text": [
            "Inicio: 2\n",
            "Final: 5\n",
            "2\n"
          ]
        }
      ]
    },
    {
      "cell_type": "code",
      "source": [],
      "metadata": {
        "id": "woTxXD-Ikn-1"
      },
      "execution_count": null,
      "outputs": []
    }
  ]
}