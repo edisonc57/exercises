{
  "nbformat": 4,
  "nbformat_minor": 0,
  "metadata": {
    "colab": {
      "provenance": [],
      "mount_file_id": "1Ohv0l_Zryky_ZWYHhkyuwSe2-AKPnruo",
      "authorship_tag": "ABX9TyPHc0gXNJQNDfqTY/kkvwUZ",
      "include_colab_link": true
    },
    "kernelspec": {
      "name": "python3",
      "display_name": "Python 3"
    },
    "language_info": {
      "name": "python"
    }
  },
  "cells": [
    {
      "cell_type": "markdown",
      "metadata": {
        "id": "view-in-github",
        "colab_type": "text"
      },
      "source": [
        "<a href=\"https://colab.research.google.com/github/edisonc57/exercises/blob/main/EDA.ipynb\" target=\"_parent\"><img src=\"https://colab.research.google.com/assets/colab-badge.svg\" alt=\"Open In Colab\"/></a>"
      ]
    },
    {
      "cell_type": "markdown",
      "source": [
        "# EDA Análisis exploratorio de datos / Исследовательский анализ данных"
      ],
      "metadata": {
        "id": "47Nh0SWc4u2K"
      }
    },
    {
      "cell_type": "markdown",
      "source": [
        "Es el proceso de analizar conjuntos de datos para resumir sus características principales, a menudo utilizando técnicas gráficas. Это процесс анализа наборов данных для обобщения их основных характеристик, часто с использованием графических методов.\n",
        "\n",
        "1. Получение данных - Obtención de datos\n",
        "2. Предварительная обработка данных - Preprocesamiento preliminar de los datos\n",
        "3. Описательная статистика - Estadística descriptiva\n",
        "4. Визуализация данных - Visualización de los datos\n",
        "5. Интерпретация результатов - Interpretación de datos\n"
      ],
      "metadata": {
        "id": "9u4YLQSeaoBk"
      }
    },
    {
      "cell_type": "markdown",
      "source": [
        "# 1) Получение данных - Obtención de datos"
      ],
      "metadata": {
        "id": "q8aeObaPQPZJ"
      }
    },
    {
      "cell_type": "code",
      "source": [
        "import pandas as pd\n",
        "import numpy as np\n",
        "import matplotlib.pyplot as plt\n",
        "import statsmodels.api as sm #это библиотека Python, которая предоставляет возможность оценить множество различных моделей, а также провести статистические тесты и исследования данных."
      ],
      "metadata": {
        "id": "9YGKeSltQVdg"
      },
      "execution_count": 2,
      "outputs": []
    },
    {
      "cell_type": "code",
      "source": [
        "df = pd.read_csv('/content/drive/MyDrive/countries.csv', sep=\";\") #index_col=0\n",
        "print(df.head(5))"
      ],
      "metadata": {
        "id": "K9XQT-G98ioG",
        "colab": {
          "base_uri": "https://localhost:8080/"
        },
        "outputId": "efe55ba2-8abf-4093-ed7e-4d44144a3548"
      },
      "execution_count": 3,
      "outputs": [
        {
          "output_type": "stream",
          "name": "stdout",
          "text": [
            "  alpha_2 alpha_3      area           capital continent currency_code  \\\n",
            "0      AD     AND     468.0  Andorra la Vella        EU           EUR   \n",
            "1      AE     ARE   82880.0         Abu Dhabi        AS           AED   \n",
            "2      AF     AFG  647500.0             Kabul        AS           AFN   \n",
            "3      AG     ATG     443.0        St. John's       NaN           XCD   \n",
            "4      AI     AIA     102.0        The Valley       NaN           XCD   \n",
            "\n",
            "  currency_name eqivalent_fips_code fips  geoname_id          languages  \\\n",
            "0          Euro                 NaN   AN     3041565                 ca   \n",
            "1        Dirham                 NaN   AE      290557  ar-AE,fa,en,hi,ur   \n",
            "2       Afghani                 NaN   AF     1149361  fa-AF,ps,uz-AF,tk   \n",
            "3        Dollar                 NaN   AC     3576396              en-AG   \n",
            "4        Dollar                 NaN   AV     3573511              en-AI   \n",
            "\n",
            "                   name         neighbours  numeric   phone  population  \\\n",
            "0               Andorra              ES,FR       20     376       84000   \n",
            "1  United Arab Emirates              SA,OM      784     971     4975593   \n",
            "2           Afghanistan  TM,CN,IR,TJ,PK,UZ        4      93    29121286   \n",
            "3   Antigua and Barbuda                NaN       28  +1-268       86754   \n",
            "4              Anguilla                NaN      660  +1-264       13254   \n",
            "\n",
            "  postal_code_format postal_code_regex  tld  \n",
            "0              AD###  ^(?:AD)*(\\d{3})$  .ad  \n",
            "1                NaN               NaN  .ae  \n",
            "2                NaN               NaN  .af  \n",
            "3                NaN               NaN  .ag  \n",
            "4                NaN               NaN  .ai  \n"
          ]
        }
      ]
    },
    {
      "cell_type": "markdown",
      "source": [
        "# 2) Предварительная обработка данных - Preprocesamiento preliminar de los datos"
      ],
      "metadata": {
        "id": "sHKAlTYH_nd0"
      }
    },
    {
      "cell_type": "markdown",
      "source": [
        "En esta etapa, es importante procesar los datos para que estén listos para el análisis. Algunas de las principales tareas de preprocesamiento de datos son:\n",
        "\n",
        "- Análisis de las propieades del conjunto de datos\n",
        "- Eliminar duplicados\n",
        "- Manejo de valores faltantes\n",
        "- Conversión de tipo de datos\n",
        "- Eliminación de valores atípicos\n",
        "\n",
        "На этом этапе важно обработать данные, чтобы они были готовы к анализу. Некоторые из основных задач предварительной обработки данных:\n",
        "\n",
        "- Анализ свойств набора данных\n",
        "- Удаление дубликатов\n",
        "- Обработка пропущенных значений\n",
        "- Преобразование типов данных\n",
        "- Удаление выбросов"
      ],
      "metadata": {
        "id": "HFazeWI0KQ4c"
      }
    },
    {
      "cell_type": "code",
      "source": [
        "#Veamos los datos básicos que nos brinda pandas\n",
        "#Давайте посмотрим на основные данные, которые нам дает панда\n",
        "\n",
        "print('cantidad de filas y columnas', df.shape)\n"
      ],
      "metadata": {
        "id": "MtcboZCbUzUM",
        "colab": {
          "base_uri": "https://localhost:8080/"
        },
        "outputId": "d3cb4894-c12a-4804-a8eb-bace7d466747"
      },
      "execution_count": 4,
      "outputs": [
        {
          "output_type": "stream",
          "name": "stdout",
          "text": [
            "cantidad de filas y columnas (252, 19)\n"
          ]
        }
      ]
    },
    {
      "cell_type": "code",
      "source": [
        "#Nombre de columnas\n",
        "#Имена столбцов\n",
        "print('Nombres de columna', df.columns)"
      ],
      "metadata": {
        "id": "YunMK5r4U9Su",
        "colab": {
          "base_uri": "https://localhost:8080/"
        },
        "outputId": "888606a6-1f40-4d8b-ede5-b90750ddda77"
      },
      "execution_count": 5,
      "outputs": [
        {
          "output_type": "stream",
          "name": "stdout",
          "text": [
            "Nombres de columna Index(['alpha_2', 'alpha_3', 'area', 'capital', 'continent', 'currency_code',\n",
            "       'currency_name', 'eqivalent_fips_code', 'fips', 'geoname_id',\n",
            "       'languages', 'name', 'neighbours', 'numeric', 'phone', 'population',\n",
            "       'postal_code_format', 'postal_code_regex', 'tld'],\n",
            "      dtype='object')\n"
          ]
        }
      ]
    },
    {
      "cell_type": "code",
      "source": [
        "#Columnas, nulos y tipo de datos\n",
        "#Столбцы, значения NULL и тип данных\n",
        "df.info()"
      ],
      "metadata": {
        "colab": {
          "base_uri": "https://localhost:8080/"
        },
        "id": "ZuOW3GOFcJ3W",
        "outputId": "958be52a-92e2-4014-daaa-b9495c9c8ddb"
      },
      "execution_count": 6,
      "outputs": [
        {
          "output_type": "stream",
          "name": "stdout",
          "text": [
            "<class 'pandas.core.frame.DataFrame'>\n",
            "RangeIndex: 252 entries, 0 to 251\n",
            "Data columns (total 19 columns):\n",
            " #   Column               Non-Null Count  Dtype  \n",
            "---  ------               --------------  -----  \n",
            " 0   alpha_2              251 non-null    object \n",
            " 1   alpha_3              252 non-null    object \n",
            " 2   area                 252 non-null    float64\n",
            " 3   capital              246 non-null    object \n",
            " 4   continent            210 non-null    object \n",
            " 5   currency_code        251 non-null    object \n",
            " 6   currency_name        251 non-null    object \n",
            " 7   eqivalent_fips_code  1 non-null      object \n",
            " 8   fips                 249 non-null    object \n",
            " 9   geoname_id           252 non-null    int64  \n",
            " 10  languages            249 non-null    object \n",
            " 11  name                 252 non-null    object \n",
            " 12  neighbours           165 non-null    object \n",
            " 13  numeric              252 non-null    int64  \n",
            " 14  phone                247 non-null    object \n",
            " 15  population           252 non-null    int64  \n",
            " 16  postal_code_format   154 non-null    object \n",
            " 17  postal_code_regex    152 non-null    object \n",
            " 18  tld                  250 non-null    object \n",
            "dtypes: float64(1), int64(3), object(15)\n",
            "memory usage: 37.5+ KB\n"
          ]
        }
      ]
    },
    {
      "cell_type": "markdown",
      "source": [
        "- Количество записей: Всего 252 записи (строки) в наборе данных\n",
        "- *Cantidad de entradas: Hay un total de 252 entradas (filas) en el conjunto de datos.*\n",
        "\n",
        "-\n",
        "- Столбцы: В DataFrame 19 столбцов, каждый с определенным именем.\n",
        "- *Columnas: Hay 19 columnas en el DataFrame, cada una con un nombre específico.*\n",
        "\n",
        "-\n",
        "- Столбец с наибольшим количеством пропущенных значений - eqivalent_fips_code, в котором всего 1 непустое значение.\n",
        "- *La columna con la mayor cantidad de valores nulos es eqivalent_fips_code, que solo tiene 1 valor no nulo. *\n",
        "\n",
        "-\n",
        "\n",
        "- Objeto (object): Contiene texto o una combinación de diferentes tipos de datos / содержит текст или комбинацию различных типов данных\n",
        "- Float64: Contiene números decimales / содержит десятичные числа\n",
        "- Int64: Contiene números enteros / содержит целые числа\n"
      ],
      "metadata": {
        "id": "TWljLkaatCwS"
      }
    },
    {
      "cell_type": "markdown",
      "source": [
        "# 3) Описательная статистика - Estadística descriptiva"
      ],
      "metadata": {
        "id": "___s2jCtg1fu"
      }
    },
    {
      "cell_type": "markdown",
      "source": [
        "Следующим шагом является рассмотрение основных статистических характеристик данных, таких как среднее, медиана, стандартное отклонение и т. д. Это поможет вам лучше понять распределение данных и их особенности.\n",
        "\n",
        "El siguiente paso es observar las características estadísticas básicas de los datos, como la media, la mediana, la desviación estándar, etc. Esto le ayudará a comprender mejor la distribución de los datos y sus características."
      ],
      "metadata": {
        "id": "BRWDfx314pGS"
      }
    },
    {
      "cell_type": "code",
      "source": [
        "df.describe()"
      ],
      "metadata": {
        "colab": {
          "base_uri": "https://localhost:8080/",
          "height": 300
        },
        "id": "09Wt5ako3ftX",
        "outputId": "eda0a2ad-fce1-4606-d042-a91cdc60a439"
      },
      "execution_count": 7,
      "outputs": [
        {
          "output_type": "execute_result",
          "data": {
            "text/plain": [
              "               area    geoname_id     numeric    population\n",
              "count  2.520000e+02  2.520000e+02  252.000000  2.520000e+02\n",
              "mean   5.952879e+05  2.427870e+06  434.309524  2.727679e+07\n",
              "std    1.904818e+06  1.632093e+06  254.663139  1.164127e+08\n",
              "min    0.000000e+00  4.951800e+04    0.000000  0.000000e+00\n",
              "25%    1.098000e+03  1.163774e+06  217.000000  1.879528e+05\n",
              "50%    6.489450e+04  2.367967e+06  436.000000  4.268583e+06\n",
              "75%    3.622245e+05  3.478296e+06  652.500000  1.536688e+07\n",
              "max    1.710000e+07  8.505033e+06  894.000000  1.330044e+09"
            ],
            "text/html": [
              "\n",
              "  <div id=\"df-d5f5189c-8f50-42b8-b0bb-00b0b82b3678\" class=\"colab-df-container\">\n",
              "    <div>\n",
              "<style scoped>\n",
              "    .dataframe tbody tr th:only-of-type {\n",
              "        vertical-align: middle;\n",
              "    }\n",
              "\n",
              "    .dataframe tbody tr th {\n",
              "        vertical-align: top;\n",
              "    }\n",
              "\n",
              "    .dataframe thead th {\n",
              "        text-align: right;\n",
              "    }\n",
              "</style>\n",
              "<table border=\"1\" class=\"dataframe\">\n",
              "  <thead>\n",
              "    <tr style=\"text-align: right;\">\n",
              "      <th></th>\n",
              "      <th>area</th>\n",
              "      <th>geoname_id</th>\n",
              "      <th>numeric</th>\n",
              "      <th>population</th>\n",
              "    </tr>\n",
              "  </thead>\n",
              "  <tbody>\n",
              "    <tr>\n",
              "      <th>count</th>\n",
              "      <td>2.520000e+02</td>\n",
              "      <td>2.520000e+02</td>\n",
              "      <td>252.000000</td>\n",
              "      <td>2.520000e+02</td>\n",
              "    </tr>\n",
              "    <tr>\n",
              "      <th>mean</th>\n",
              "      <td>5.952879e+05</td>\n",
              "      <td>2.427870e+06</td>\n",
              "      <td>434.309524</td>\n",
              "      <td>2.727679e+07</td>\n",
              "    </tr>\n",
              "    <tr>\n",
              "      <th>std</th>\n",
              "      <td>1.904818e+06</td>\n",
              "      <td>1.632093e+06</td>\n",
              "      <td>254.663139</td>\n",
              "      <td>1.164127e+08</td>\n",
              "    </tr>\n",
              "    <tr>\n",
              "      <th>min</th>\n",
              "      <td>0.000000e+00</td>\n",
              "      <td>4.951800e+04</td>\n",
              "      <td>0.000000</td>\n",
              "      <td>0.000000e+00</td>\n",
              "    </tr>\n",
              "    <tr>\n",
              "      <th>25%</th>\n",
              "      <td>1.098000e+03</td>\n",
              "      <td>1.163774e+06</td>\n",
              "      <td>217.000000</td>\n",
              "      <td>1.879528e+05</td>\n",
              "    </tr>\n",
              "    <tr>\n",
              "      <th>50%</th>\n",
              "      <td>6.489450e+04</td>\n",
              "      <td>2.367967e+06</td>\n",
              "      <td>436.000000</td>\n",
              "      <td>4.268583e+06</td>\n",
              "    </tr>\n",
              "    <tr>\n",
              "      <th>75%</th>\n",
              "      <td>3.622245e+05</td>\n",
              "      <td>3.478296e+06</td>\n",
              "      <td>652.500000</td>\n",
              "      <td>1.536688e+07</td>\n",
              "    </tr>\n",
              "    <tr>\n",
              "      <th>max</th>\n",
              "      <td>1.710000e+07</td>\n",
              "      <td>8.505033e+06</td>\n",
              "      <td>894.000000</td>\n",
              "      <td>1.330044e+09</td>\n",
              "    </tr>\n",
              "  </tbody>\n",
              "</table>\n",
              "</div>\n",
              "    <div class=\"colab-df-buttons\">\n",
              "\n",
              "  <div class=\"colab-df-container\">\n",
              "    <button class=\"colab-df-convert\" onclick=\"convertToInteractive('df-d5f5189c-8f50-42b8-b0bb-00b0b82b3678')\"\n",
              "            title=\"Convert this dataframe to an interactive table.\"\n",
              "            style=\"display:none;\">\n",
              "\n",
              "  <svg xmlns=\"http://www.w3.org/2000/svg\" height=\"24px\" viewBox=\"0 -960 960 960\">\n",
              "    <path d=\"M120-120v-720h720v720H120Zm60-500h600v-160H180v160Zm220 220h160v-160H400v160Zm0 220h160v-160H400v160ZM180-400h160v-160H180v160Zm440 0h160v-160H620v160ZM180-180h160v-160H180v160Zm440 0h160v-160H620v160Z\"/>\n",
              "  </svg>\n",
              "    </button>\n",
              "\n",
              "  <style>\n",
              "    .colab-df-container {\n",
              "      display:flex;\n",
              "      gap: 12px;\n",
              "    }\n",
              "\n",
              "    .colab-df-convert {\n",
              "      background-color: #E8F0FE;\n",
              "      border: none;\n",
              "      border-radius: 50%;\n",
              "      cursor: pointer;\n",
              "      display: none;\n",
              "      fill: #1967D2;\n",
              "      height: 32px;\n",
              "      padding: 0 0 0 0;\n",
              "      width: 32px;\n",
              "    }\n",
              "\n",
              "    .colab-df-convert:hover {\n",
              "      background-color: #E2EBFA;\n",
              "      box-shadow: 0px 1px 2px rgba(60, 64, 67, 0.3), 0px 1px 3px 1px rgba(60, 64, 67, 0.15);\n",
              "      fill: #174EA6;\n",
              "    }\n",
              "\n",
              "    .colab-df-buttons div {\n",
              "      margin-bottom: 4px;\n",
              "    }\n",
              "\n",
              "    [theme=dark] .colab-df-convert {\n",
              "      background-color: #3B4455;\n",
              "      fill: #D2E3FC;\n",
              "    }\n",
              "\n",
              "    [theme=dark] .colab-df-convert:hover {\n",
              "      background-color: #434B5C;\n",
              "      box-shadow: 0px 1px 3px 1px rgba(0, 0, 0, 0.15);\n",
              "      filter: drop-shadow(0px 1px 2px rgba(0, 0, 0, 0.3));\n",
              "      fill: #FFFFFF;\n",
              "    }\n",
              "  </style>\n",
              "\n",
              "    <script>\n",
              "      const buttonEl =\n",
              "        document.querySelector('#df-d5f5189c-8f50-42b8-b0bb-00b0b82b3678 button.colab-df-convert');\n",
              "      buttonEl.style.display =\n",
              "        google.colab.kernel.accessAllowed ? 'block' : 'none';\n",
              "\n",
              "      async function convertToInteractive(key) {\n",
              "        const element = document.querySelector('#df-d5f5189c-8f50-42b8-b0bb-00b0b82b3678');\n",
              "        const dataTable =\n",
              "          await google.colab.kernel.invokeFunction('convertToInteractive',\n",
              "                                                    [key], {});\n",
              "        if (!dataTable) return;\n",
              "\n",
              "        const docLinkHtml = 'Like what you see? Visit the ' +\n",
              "          '<a target=\"_blank\" href=https://colab.research.google.com/notebooks/data_table.ipynb>data table notebook</a>'\n",
              "          + ' to learn more about interactive tables.';\n",
              "        element.innerHTML = '';\n",
              "        dataTable['output_type'] = 'display_data';\n",
              "        await google.colab.output.renderOutput(dataTable, element);\n",
              "        const docLink = document.createElement('div');\n",
              "        docLink.innerHTML = docLinkHtml;\n",
              "        element.appendChild(docLink);\n",
              "      }\n",
              "    </script>\n",
              "  </div>\n",
              "\n",
              "\n",
              "<div id=\"df-b1c76089-24d1-45fe-b8a0-a959f8bc7771\">\n",
              "  <button class=\"colab-df-quickchart\" onclick=\"quickchart('df-b1c76089-24d1-45fe-b8a0-a959f8bc7771')\"\n",
              "            title=\"Suggest charts\"\n",
              "            style=\"display:none;\">\n",
              "\n",
              "<svg xmlns=\"http://www.w3.org/2000/svg\" height=\"24px\"viewBox=\"0 0 24 24\"\n",
              "     width=\"24px\">\n",
              "    <g>\n",
              "        <path d=\"M19 3H5c-1.1 0-2 .9-2 2v14c0 1.1.9 2 2 2h14c1.1 0 2-.9 2-2V5c0-1.1-.9-2-2-2zM9 17H7v-7h2v7zm4 0h-2V7h2v10zm4 0h-2v-4h2v4z\"/>\n",
              "    </g>\n",
              "</svg>\n",
              "  </button>\n",
              "\n",
              "<style>\n",
              "  .colab-df-quickchart {\n",
              "      --bg-color: #E8F0FE;\n",
              "      --fill-color: #1967D2;\n",
              "      --hover-bg-color: #E2EBFA;\n",
              "      --hover-fill-color: #174EA6;\n",
              "      --disabled-fill-color: #AAA;\n",
              "      --disabled-bg-color: #DDD;\n",
              "  }\n",
              "\n",
              "  [theme=dark] .colab-df-quickchart {\n",
              "      --bg-color: #3B4455;\n",
              "      --fill-color: #D2E3FC;\n",
              "      --hover-bg-color: #434B5C;\n",
              "      --hover-fill-color: #FFFFFF;\n",
              "      --disabled-bg-color: #3B4455;\n",
              "      --disabled-fill-color: #666;\n",
              "  }\n",
              "\n",
              "  .colab-df-quickchart {\n",
              "    background-color: var(--bg-color);\n",
              "    border: none;\n",
              "    border-radius: 50%;\n",
              "    cursor: pointer;\n",
              "    display: none;\n",
              "    fill: var(--fill-color);\n",
              "    height: 32px;\n",
              "    padding: 0;\n",
              "    width: 32px;\n",
              "  }\n",
              "\n",
              "  .colab-df-quickchart:hover {\n",
              "    background-color: var(--hover-bg-color);\n",
              "    box-shadow: 0 1px 2px rgba(60, 64, 67, 0.3), 0 1px 3px 1px rgba(60, 64, 67, 0.15);\n",
              "    fill: var(--button-hover-fill-color);\n",
              "  }\n",
              "\n",
              "  .colab-df-quickchart-complete:disabled,\n",
              "  .colab-df-quickchart-complete:disabled:hover {\n",
              "    background-color: var(--disabled-bg-color);\n",
              "    fill: var(--disabled-fill-color);\n",
              "    box-shadow: none;\n",
              "  }\n",
              "\n",
              "  .colab-df-spinner {\n",
              "    border: 2px solid var(--fill-color);\n",
              "    border-color: transparent;\n",
              "    border-bottom-color: var(--fill-color);\n",
              "    animation:\n",
              "      spin 1s steps(1) infinite;\n",
              "  }\n",
              "\n",
              "  @keyframes spin {\n",
              "    0% {\n",
              "      border-color: transparent;\n",
              "      border-bottom-color: var(--fill-color);\n",
              "      border-left-color: var(--fill-color);\n",
              "    }\n",
              "    20% {\n",
              "      border-color: transparent;\n",
              "      border-left-color: var(--fill-color);\n",
              "      border-top-color: var(--fill-color);\n",
              "    }\n",
              "    30% {\n",
              "      border-color: transparent;\n",
              "      border-left-color: var(--fill-color);\n",
              "      border-top-color: var(--fill-color);\n",
              "      border-right-color: var(--fill-color);\n",
              "    }\n",
              "    40% {\n",
              "      border-color: transparent;\n",
              "      border-right-color: var(--fill-color);\n",
              "      border-top-color: var(--fill-color);\n",
              "    }\n",
              "    60% {\n",
              "      border-color: transparent;\n",
              "      border-right-color: var(--fill-color);\n",
              "    }\n",
              "    80% {\n",
              "      border-color: transparent;\n",
              "      border-right-color: var(--fill-color);\n",
              "      border-bottom-color: var(--fill-color);\n",
              "    }\n",
              "    90% {\n",
              "      border-color: transparent;\n",
              "      border-bottom-color: var(--fill-color);\n",
              "    }\n",
              "  }\n",
              "</style>\n",
              "\n",
              "  <script>\n",
              "    async function quickchart(key) {\n",
              "      const quickchartButtonEl =\n",
              "        document.querySelector('#' + key + ' button');\n",
              "      quickchartButtonEl.disabled = true;  // To prevent multiple clicks.\n",
              "      quickchartButtonEl.classList.add('colab-df-spinner');\n",
              "      try {\n",
              "        const charts = await google.colab.kernel.invokeFunction(\n",
              "            'suggestCharts', [key], {});\n",
              "      } catch (error) {\n",
              "        console.error('Error during call to suggestCharts:', error);\n",
              "      }\n",
              "      quickchartButtonEl.classList.remove('colab-df-spinner');\n",
              "      quickchartButtonEl.classList.add('colab-df-quickchart-complete');\n",
              "    }\n",
              "    (() => {\n",
              "      let quickchartButtonEl =\n",
              "        document.querySelector('#df-b1c76089-24d1-45fe-b8a0-a959f8bc7771 button');\n",
              "      quickchartButtonEl.style.display =\n",
              "        google.colab.kernel.accessAllowed ? 'block' : 'none';\n",
              "    })();\n",
              "  </script>\n",
              "</div>\n",
              "    </div>\n",
              "  </div>\n"
            ]
          },
          "metadata": {},
          "execution_count": 7
        }
      ]
    },
    {
      "cell_type": "markdown",
      "source": [
        "Conclusiones:\n",
        "\n",
        "- Área (Area): La media del área es aproximadamente 595,287.9, con una desviación estándar considerable (1,904,818), lo que sugiere una variabilidad significativa en las áreas de los elementos en el conjunto de datos.\n",
        "El valor mínimo de área es 0, lo que podría indicar la presencia de registros con áreas no definidas o faltantes. El 25% de las áreas son iguales o inferiores a 1,098, y el 75% son iguales o inferiores a 3,622,245. Puedes calcular el porcentaje de áreas iguales o inferiores a 1,098 o 3,622,245 en relación con el total.\n",
        "\n",
        "- Geoname ID (geoname_id):\n",
        "La media del geoname_id es alrededor de 2,427,870, y la desviación estándar es 1,632,093. Esto indica una variabilidad considerable en los identificadores geográficos en el conjunto de datos.\n",
        "El valor mínimo del geoname_id es 49,518, lo que podría indicar que estos identificadores son significativamente grandes. Similar al área, puedes calcular los porcentajes de geoname_id iguales o inferiores al valor del 25% (cuartil 1) y al valor del 75% (cuartil 3).\n",
        "\n",
        "- Número (numeric):\n",
        "La media de la variable numérica es 434.31, con una desviación estándar de 254.66. Esto sugiere cierta variabilidad en los valores numéricos.\n",
        "La mediana (50%) es 436, lo que indica que la mitad de los valores numéricos están por encima de este valor y la mitad están por debajo. Puedes calcular los porcentajes de valores numéricos iguales o inferiores al valor del 25% y al valor del 75%.\n",
        "\n",
        "- Población (population):\n",
        "La media de la población es aproximadamente 27,276,790, con una desviación estándar significativa (116,412,700). Esto sugiere una variabilidad considerable en las poblaciones de los elementos en el conjunto de datos.\n",
        "El valor mínimo de población es 0, lo que podría indicar la presencia de registros con poblaciones no definidas o faltantes. Al igual que con las variables anteriores, puedes calcular los porcentajes de población iguales o inferiores al valor del 25% y al valor del 75%."
      ],
      "metadata": {
        "id": "wRybfiZdWAJ-"
      }
    },
    {
      "cell_type": "code",
      "source": [
        "#Verifiquemos si hay correlación entre los datos\n",
        "corr = df.set_index('alpha_3').corr()\n",
        "sm.graphics.plot_corr(corr, xnames=list(corr.columns))\n",
        "plt.plot()\n"
      ],
      "metadata": {
        "colab": {
          "base_uri": "https://localhost:8080/",
          "height": 559
        },
        "id": "1NM-5wgy46yy",
        "outputId": "3f3b87e0-38b1-4e31-c38f-02efcc5ed6d2"
      },
      "execution_count": 13,
      "outputs": [
        {
          "output_type": "stream",
          "name": "stderr",
          "text": [
            "<ipython-input-13-9715df9a0cf6>:2: FutureWarning: The default value of numeric_only in DataFrame.corr is deprecated. In a future version, it will default to False. Select only valid columns or specify the value of numeric_only to silence this warning.\n",
            "  corr = df.set_index('alpha_3').corr()\n"
          ]
        },
        {
          "output_type": "execute_result",
          "data": {
            "text/plain": [
              "[]"
            ]
          },
          "metadata": {},
          "execution_count": 13
        },
        {
          "output_type": "display_data",
          "data": {
            "text/plain": [
              "<Figure size 640x480 with 2 Axes>"
            ],
            "image/png": "[encoded data removed]"
          },
          "metadata": {}
        }
      ]
    },
    {
      "cell_type": "markdown",
      "source": [
        "En este caso vemos baja correlación entre las variables (de 0.5 para abajo). Depende del algoritmo que utilicemos podría ser una buena decisión eliminar features que tuvieran alta correlación por varias razones:\n",
        "\n",
        "- Reducción de la redundancia - Уменьшение избыточности\n",
        "- Mejora de la interpretabilidad - Повышение интерпретируемости\n",
        "- Evitar la multicolinealidad  - Предотвращение мультиколлинеарности\n",
        "- Mejora del rendimiento del modelo - Улучшение производительности модели\n",
        "- Acelerar el entrenamiento del modelo - Ускорение обучения модели"
      ],
      "metadata": {
        "id": "pXNUZ35KSown"
      }
    },
    {
      "cell_type": "code",
      "source": [
        "df2 = pd.read_csv('/content/drive/MyDrive/countries2.csv', sep=\",\")"
      ],
      "metadata": {
        "id": "_P4I0nGQdK20"
      },
      "execution_count": 37,
      "outputs": []
    },
    {
      "cell_type": "code",
      "source": [
        "#de este Dataframe vamos a extraer en un nuevo dataframe los valores solo de españa para analizarlos\n",
        "\n",
        "df2_es = df2[df2['country'] =='Spain']\n",
        "print(df2_es.head)"
      ],
      "metadata": {
        "colab": {
          "base_uri": "https://localhost:8080/"
        },
        "id": "Gdr-HwtsxUBT",
        "outputId": "a3353ed5-fde5-4d87-f3be-57c200d17175"
      },
      "execution_count": 61,
      "outputs": [
        {
          "output_type": "stream",
          "name": "stdout",
          "text": [
            "<bound method NDFrame.head of      country  year  population\n",
            "1416   Spain  1952    28549870\n",
            "1417   Spain  1957    29841614\n",
            "1418   Spain  1962    31158061\n",
            "1419   Spain  1967    32850275\n",
            "1420   Spain  1972    34513161\n",
            "1421   Spain  1977    36439000\n",
            "1422   Spain  1982    37983310\n",
            "1423   Spain  1987    38880702\n",
            "1424   Spain  1992    39549438\n",
            "1425   Spain  1997    39855442\n",
            "1426   Spain  2002    40152517\n",
            "1427   Spain  2007    40448191>\n"
          ]
        }
      ]
    },
    {
      "cell_type": "code",
      "source": [
        "#anos=df2_es[\"year\"].unique()\n",
        "#pop_es=df2_es[\"population\"].unique()\n",
        "Spain = df2_es.plot(x= 'year', y= \"population\", kind='bar',figsize= (10,6))\n",
        "Spain.set_xlabel('Años')\n",
        "Spain.set_ylabel('Población')\n",
        "Spain.legend(['Spain'])\n",
        "plt.show()"
      ],
      "metadata": {
        "colab": {
          "base_uri": "https://localhost:8080/",
          "height": 578
        },
        "id": "QPAMJ4xp9R_A",
        "outputId": "82b86e0b-5e5c-42a2-adde-5c1cd6aaf785"
      },
      "execution_count": 67,
      "outputs": [
        {
          "output_type": "display_data",
          "data": {
            "text/plain": [
              "<Figure size 1000x600 with 1 Axes>"
            ],
            "image/png": "[encoded data removed]"
          },
          "metadata": {}
        }
      ]
    },
    {
      "cell_type": "code",
      "source": [
        "#Haremos la comparación con otro Argentina\n",
        "df2_ar = df2[df2['country'] =='Argentina']\n",
        "Arg = df2_ar.plot(x= 'year', y= \"population\", kind='bar',figsize= (10,6),color=\"coral\")\n",
        "Arg.set_xlabel('Años')\n",
        "Arg.set_ylabel('Población')\n",
        "Arg.legend(['Argentina'])\n",
        "plt.show()"
      ],
      "metadata": {
        "colab": {
          "base_uri": "https://localhost:8080/",
          "height": 578
        },
        "id": "64DRQjGfBwkH",
        "outputId": "b3e4de74-5220-4136-9b1c-1366a86eb2da"
      },
      "execution_count": 75,
      "outputs": [
        {
          "output_type": "display_data",
          "data": {
            "text/plain": [
              "<Figure size 1000x600 with 1 Axes>"
            ],
            "image/png": "[encoded data removed]"
          },
          "metadata": {}
        }
      ]
    },
    {
      "cell_type": "code",
      "source": [
        "df_plot= pd.DataFrame({\"Argentina\":})"
      ],
      "metadata": {
        "id": "t_HhCVOxVYgr"
      },
      "execution_count": null,
      "outputs": []
    }
  ]
}